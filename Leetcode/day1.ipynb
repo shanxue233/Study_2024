{
 "cells": [
  {
   "cell_type": "markdown",
   "metadata": {},
   "source": [
    "Day 1 [Task](https://docs.qq.com/doc/DUG9UR2ZUc3BjRUdY) "
   ]
  },
  {
   "cell_type": "markdown",
   "metadata": {},
   "source": [
    "[数组理论基础](https://programmercarl.com/%E6%95%B0%E7%BB%84%E7%90%86%E8%AE%BA%E5%9F%BA%E7%A1%80.html)"
   ]
  },
  {
   "cell_type": "markdown",
   "metadata": {},
   "source": [
    "- 1D array: 内存地址 / 字符数组 /下标\n",
    "- 2D array：a[row][column]\n",
    "\n",
    "- 数组的元素是不能删的，只能覆盖"
   ]
  },
  {
   "cell_type": "markdown",
   "metadata": {},
   "source": [
    "[704. Binary Search](https://leetcode.com/problems/binary-search/description/) - Easy"
   ]
  },
  {
   "cell_type": "markdown",
   "metadata": {},
   "source": [
    "\n",
    "- time complexity `nlog(n)`\n",
    "\n",
    "- 边界条件\n",
    "    1. [left, right]: left <= right; right = middle +1 \n",
    "    2. [left, right): left < right; right = middle "
   ]
  },
  {
   "cell_type": "code",
   "execution_count": 1,
   "metadata": {},
   "outputs": [
    {
     "data": {
      "text/plain": [
       "4"
      ]
     },
     "execution_count": 1,
     "metadata": {},
     "output_type": "execute_result"
    }
   ],
   "source": [
    "def search_v1(nums, target):\n",
    "    l, r = 0, len(nums)-1 \n",
    "\n",
    "    while l <= r: \n",
    "        mid = l + (r-l)//2\n",
    "        if nums[mid] > target: \n",
    "            r = mid - 1\n",
    "        elif nums[mid] < target:\n",
    "            l = mid + 1\n",
    "        else:\n",
    "            return mid \n",
    "    return -1\n",
    "\n",
    "nums = [-1,0,3,5,9,12]\n",
    "target = 9\n",
    "search_v1(nums, target) # expected 4 "
   ]
  },
  {
   "cell_type": "code",
   "execution_count": 2,
   "metadata": {},
   "outputs": [
    {
     "data": {
      "text/plain": [
       "4"
      ]
     },
     "execution_count": 2,
     "metadata": {},
     "output_type": "execute_result"
    }
   ],
   "source": [
    "def search_v2(nums, target):\n",
    "    l, r = 0, len(nums)-1 \n",
    "\n",
    "    while l < r: \n",
    "        mid = l + (r-l)//2\n",
    "        if nums[mid] > target: \n",
    "            r = mid\n",
    "        elif nums[mid] < target:\n",
    "            l = mid + 1\n",
    "        else:\n",
    "            return mid \n",
    "    return -1\n",
    "\n",
    "nums = [-1,0,3,5,9,12]\n",
    "target = 9\n",
    "search_v2(nums, target) # expected 4 "
   ]
  },
  {
   "cell_type": "code",
   "execution_count": 3,
   "metadata": {},
   "outputs": [],
   "source": [
    "#TODO:35.搜索插入位置 和 34. 在排序数组中查找元素 有时间看"
   ]
  },
  {
   "cell_type": "markdown",
   "metadata": {},
   "source": [
    "[27. Remove Element](https://leetcode.com/problems/remove-element/description/) - Easy"
   ]
  },
  {
   "cell_type": "markdown",
   "metadata": {},
   "source": [
    "- space complexity: O(1) \n",
    "- 数组中地址是连续的，不能删除，只能覆盖\n",
    "- solution:\n",
    "    1. Brute Force: two for loop: time O(n^2)\n",
    "    2. slow/fast pointer: time O(n)\n"
   ]
  },
  {
   "cell_type": "code",
   "execution_count": 4,
   "metadata": {},
   "outputs": [
    {
     "name": "stdout",
     "output_type": "stream",
     "text": [
      "5\n"
     ]
    }
   ],
   "source": [
    "def removeElement(nums, val):\n",
    "    slow, fast = 0, 0 \n",
    "\n",
    "    while fast < len(nums): \n",
    "        if nums[fast] != val:\n",
    "            nums[slow] = nums[fast]\n",
    "            slow += 1\n",
    "        fast += 1\n",
    "\n",
    "    return slow  \n",
    "        \n",
    "nums = [0,1,2,2,3,0,4,2]\n",
    "val = 2\n",
    "print(removeElement(nums, val))"
   ]
  },
  {
   "cell_type": "markdown",
   "metadata": {},
   "source": [
    "Daily review: \n",
    "\n",
    "- Binary Search / Two pointers on array\n",
    "- while boundary condition with/without \"=\"\n"
   ]
  }
 ],
 "metadata": {
  "kernelspec": {
   "display_name": "base",
   "language": "python",
   "name": "python3"
  },
  "language_info": {
   "codemirror_mode": {
    "name": "ipython",
    "version": 3
   },
   "file_extension": ".py",
   "mimetype": "text/x-python",
   "name": "python",
   "nbconvert_exporter": "python",
   "pygments_lexer": "ipython3",
   "version": "3.10.12"
  }
 },
 "nbformat": 4,
 "nbformat_minor": 2
}
