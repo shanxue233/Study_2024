{
 "cells": [
  {
   "cell_type": "markdown",
   "metadata": {},
   "source": [
    "Day2 [task](https://docs.qq.com/doc/DUGRwWXNOVEpyaVpG)"
   ]
  },
  {
   "cell_type": "markdown",
   "metadata": {},
   "source": [
    "[977.Squares of s Sorted Array](https://leetcode.com/problems/squares-of-a-sorted-array/description/)\n",
    "\n",
    "题目建议： 本题关键在于理解双指针思想 \n"
   ]
  },
  {
   "cell_type": "code",
   "execution_count": 33,
   "metadata": {},
   "outputs": [
    {
     "name": "stdout",
     "output_type": "stream",
     "text": [
      "[0, 1, 9, 16, 100]\n"
     ]
    }
   ],
   "source": [
    "# Brute Froce: O(n + nlog n)\n",
    "def sortedSquares(nums):\n",
    "    for i in range(len(nums)):\n",
    "        nums[i] = nums[i]**2\n",
    "    nums.sort()      \n",
    "    return nums\n",
    "\n",
    "nums = [-4,-1,0,3,10]\n",
    "print(sortedSquares(nums))"
   ]
  },
  {
   "cell_type": "markdown",
   "metadata": {},
   "source": [
    "双指针法： 因为nums sorted，所以两端的sqrt一定是大于中间的\n",
    "\n",
    "    - if nums[l]**2 < nums[r]**2; results[k--] = nums[r]**2\n",
    "    - else: results[k--] = nums[l]**2 "
   ]
  },
  {
   "cell_type": "code",
   "execution_count": 34,
   "metadata": {},
   "outputs": [
    {
     "name": "stdout",
     "output_type": "stream",
     "text": [
      "[0, 1, 9, 16, 100]\n"
     ]
    }
   ],
   "source": [
    "# Two pointer O(n)\n",
    "def sortedSquares(nums):\n",
    "    l, r = 0, len(nums)-1\n",
    "    i = len(nums)-1\n",
    "    result = [float('inf')] * len(nums)\n",
    "    while l <= r:\n",
    "        if nums[l]**2 < nums[r]**2:\n",
    "            result[i] = nums[r]**2\n",
    "            r -= 1\n",
    "        else:\n",
    "            result[i]= nums[l]**2\n",
    "            l += 1\n",
    "        i -= 1\n",
    "    return result\n",
    "\n",
    "nums = [-4,-1,0,3,10]\n",
    "print(sortedSquares(nums))"
   ]
  },
  {
   "cell_type": "markdown",
   "metadata": {},
   "source": [
    "[209.Minimum Size Subarray Sum](https://leetcode.com/problems/minimum-size-subarray-sum/description/) _ Medium \n",
    "\n",
    "题目建议： 本题关键在于理解滑动窗口，这个滑动窗口看文字讲解 还挺难理解的，建议大家先看视频讲解。  拓展题目可以先不做"
   ]
  },
  {
   "cell_type": "code",
   "execution_count": 35,
   "metadata": {},
   "outputs": [
    {
     "name": "stdout",
     "output_type": "stream",
     "text": [
      "2\n"
     ]
    }
   ],
   "source": [
    "#Brute force \n",
    "# 时间复杂度：O(n^2)\n",
    "# 空间复杂度：O(1)\n",
    "def minSubArrayLen(target, nums):\n",
    "    minlen = float('inf')\n",
    "    for i in range(len(nums)):\n",
    "        cursum = 0\n",
    "        for j in range(i, len(nums)):\n",
    "            cursum += nums[j]\n",
    "            if cursum >= target:\n",
    "                minlen = min(minlen, j-i+1)\n",
    "                break\n",
    "\n",
    "    return minlen if minlen != float('inf') else 0\n",
    "                \n",
    "target = 7\n",
    "nums = [2,3,1,2,4,3]\n",
    "print(minSubArrayLen(target, nums))\n"
   ]
  },
  {
   "cell_type": "markdown",
   "metadata": {},
   "source": [
    "slicing window \n",
    "\n",
    "1. 窗口内是什么？\n",
    "    - sum(window) > target; min(minlen, curlen)\n",
    "2. 如何移动窗口的起始位置？\n",
    "    - if sum(window) > target, move left+1 \n",
    "3. 如何移动窗口的结束位置？\n",
    "    - for loop for len(nums)"
   ]
  },
  {
   "cell_type": "code",
   "execution_count": 36,
   "metadata": {},
   "outputs": [
    {
     "name": "stdout",
     "output_type": "stream",
     "text": [
      "2\n"
     ]
    }
   ],
   "source": [
    "# slicing window \n",
    "# 时间复杂度：O(n)\n",
    "# 空间复杂度：O(1)\n",
    "def minSubArrayLen(target, nums):\n",
    "    l, r = 0, 0 \n",
    "    minlen = float('inf')\n",
    "    cursum = 0 \n",
    "\n",
    "    while r < len(nums):\n",
    "        cursum += nums[r]\n",
    "\n",
    "        while cursum >= target:\n",
    "            minlen = min(minlen, r-l+1)\n",
    "            cursum -= nums[l]\n",
    "            l += 1\n",
    "\n",
    "        r += 1\n",
    "    \n",
    "    return minlen if minlen != float('inf') else 0 \n",
    "    \n",
    "\n",
    "target = 7\n",
    "nums = [2,3,1,2,4,3]\n",
    "print(minSubArrayLen(target, nums))\n"
   ]
  },
  {
   "cell_type": "markdown",
   "metadata": {},
   "source": [
    "反思：用while 写loop，操作次数其实是2n， 不是所有的while都是nlog(n)"
   ]
  },
  {
   "cell_type": "code",
   "execution_count": 37,
   "metadata": {},
   "outputs": [],
   "source": [
    "#TODO: 904.水果成篮(opens new window) 76.最小覆盖子串(opens new window)"
   ]
  },
  {
   "cell_type": "markdown",
   "metadata": {},
   "source": [
    "[59.Spiral Matrix II](https://leetcode.com/problems/spiral-matrix-ii/description/)\n",
    "\n",
    "题目建议：  本题关键还是在转圈的逻辑，在二分搜索中提到的区间定义，在这里又用上了。\n"
   ]
  },
  {
   "cell_type": "code",
   "execution_count": 38,
   "metadata": {},
   "outputs": [
    {
     "name": "stdout",
     "output_type": "stream",
     "text": [
      "[[1, 2, 3], [8, 9, 4], [7, 6, 5]]\n"
     ]
    }
   ],
   "source": [
    "def generateMatrix(n):\n",
    "    nums = [[0] * n for _ in range(n)]\n",
    "\n",
    "    startx, starty =  0, 0 \n",
    "    loop, mid = n//2, n//2\n",
    "    count = 1\n",
    "\n",
    "    for offset in range(1, loop+1):\n",
    "        for i in range(starty, n - offset) :    # 从左至右，左闭右开\n",
    "            nums[startx][i] = count\n",
    "            count += 1\n",
    "        for i in range(startx, n - offset) :    # 从上至下\n",
    "            nums[i][n - offset] = count\n",
    "            count += 1\n",
    "        for i in range(n - offset, starty, -1) : # 从右至左\n",
    "            nums[n - offset][i] = count\n",
    "            count += 1\n",
    "        for i in range(n - offset, startx, -1) : # 从下至上\n",
    "            nums[i][starty] = count\n",
    "            count += 1                \n",
    "        startx += 1         # 更新起始点\n",
    "        starty += 1\n",
    "\n",
    "        if n % 2 != 0 :\t\t\t# n为奇数时，填充中心点\n",
    "            nums[mid][mid] = count \n",
    "        return nums\n",
    "            \n",
    "\n",
    "\n",
    "print(generateMatrix(3))"
   ]
  },
  {
   "cell_type": "markdown",
   "metadata": {},
   "source": [
    "数组专题的总结\n",
    "\n",
    "1. 二分法\n",
    "    - O(nlog(n))\n",
    "2. 双指针法\n",
    "    - O(n)\n",
    "3. 滑动窗口\n",
    "    - O(n)\n",
    "4. 模拟行为\n",
    "    - 注意写循环的边界"
   ]
  }
 ],
 "metadata": {
  "kernelspec": {
   "display_name": "base",
   "language": "python",
   "name": "python3"
  },
  "language_info": {
   "codemirror_mode": {
    "name": "ipython",
    "version": 3
   },
   "file_extension": ".py",
   "mimetype": "text/x-python",
   "name": "python",
   "nbconvert_exporter": "python",
   "pygments_lexer": "ipython3",
   "version": "3.10.12"
  }
 },
 "nbformat": 4,
 "nbformat_minor": 2
}
