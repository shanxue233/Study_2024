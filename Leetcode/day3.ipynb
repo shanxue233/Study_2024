{
 "cells": [
  {
   "cell_type": "markdown",
   "metadata": {},
   "source": [
    "Day3 [task](https://docs.qq.com/doc/DUGdqYWNYeGhlaVR6)"
   ]
  },
  {
   "cell_type": "markdown",
   "metadata": {},
   "source": [
    "链表\n",
    "\n",
    "head -> dataA(next) -> dataB(next) -> ... -> dataE(next) -> null \n",
    "\n",
    "- 单链表\n",
    "- 双链表： (prev)dataA(next) 有两个指针域\n",
    "- 循环链表：约瑟夫环问题\n",
    "\n",
    "链表的存储方式\n",
    "\n",
    "链表的定义\n",
    "\n",
    "链表的操作\n",
    "- 删除节点\n",
    "- 添加节点"
   ]
  },
  {
   "cell_type": "code",
   "execution_count": 25,
   "metadata": {},
   "outputs": [],
   "source": [
    "class ListNode:\n",
    "    def __init__(self, val, next=None):\n",
    "        self.val = val\n",
    "        self.next = next"
   ]
  },
  {
   "cell_type": "markdown",
   "metadata": {},
   "source": [
    "[203. Remove Linked List Elements](https://leetcode.com/problems/remove-linked-list-elements/description/) - Easy\n",
    "\n",
    "建议： 本题最关键是要理解 虚拟头结点的使用技巧，这个对链表题目很重要。\n"
   ]
  },
  {
   "cell_type": "code",
   "execution_count": 26,
   "metadata": {},
   "outputs": [],
   "source": [
    "def removeElements(self, head,val):\n",
    "    # 创建虚拟头部节点以简化删除过程\n",
    "    dummy_head = ListNode(next=head)\n",
    "\n",
    "    current = dummy_head \n",
    "    while current.next:\n",
    "        if current.next.val == val:\n",
    "            current.next = current.next.next\n",
    "        else:\n",
    "            current = current.next \n",
    "    \n",
    "    return dummy_head.next"
   ]
  },
  {
   "cell_type": "markdown",
   "metadata": {},
   "source": [
    "[707. Design Linked List](https://leetcode.com/problems/design-linked-list/description/) - Medium \n",
    "\n",
    "建议： 这是一道考察 链表综合操作的题目，不算容易，可以练一练 使用虚拟头结点\n"
   ]
  },
  {
   "cell_type": "code",
   "execution_count": 27,
   "metadata": {},
   "outputs": [],
   "source": [
    "class MyLinkedList:\n",
    "\n",
    "    def __init__(self):\n",
    "        self.dummy_head = ListNode()\n",
    "        self.size = 0 \n",
    "        \n",
    "    def get(self, index: int) -> int:\n",
    "        if index < 0 or index >= self.size:\n",
    "            return -1\n",
    "        \n",
    "        current = self.dummy_head.next\n",
    "        for i in range(index):\n",
    "            current = current.next\n",
    "    \n",
    "        return current.val     \n",
    "\n",
    "    def addAtHead(self, val: int) -> None:\n",
    "        self.dummy_head.next = ListNode(val, self.dummy_head.next)\n",
    "        self.size += 1 \n",
    "\n",
    "    def addAtTail(self, val: int) -> None:\n",
    "        current = self.dummy_head \n",
    "        while current.next:\n",
    "            current = current.next\n",
    "        current.next = ListNode(val)\n",
    "        self.size += 1 \n",
    "\n",
    "    def addAtIndex(self, index: int, val: int) -> None:\n",
    "        if index < 0 or index > self.size:\n",
    "            return \n",
    "        \n",
    "        current = self.dummy_head\n",
    "        for i in range(index):\n",
    "            current = current.next\n",
    "        current.next = ListNode(val, current.next)\n",
    "        self.size += 1\n",
    "        \n",
    "    def deleteAtIndex(self, index: int) -> None:\n",
    "        if index < 0 or index > self.size:\n",
    "            return \n",
    "        \n",
    "        current = self.dummy_head\n",
    "        for i in range(index):\n",
    "            current = current.next\n",
    "        current.next =current.next.next\n",
    "        self.size += 1\n",
    "        "
   ]
  },
  {
   "cell_type": "markdown",
   "metadata": {},
   "source": [
    "[206. Reverse Linked List](https://leetcode.com/problems/reverse-linked-list/description/)\n",
    "\n",
    "建议先看我的视频讲解，视频讲解中对 反转链表需要注意的点讲的很清晰了，看完之后大家的疑惑基本都解决了。"
   ]
  },
  {
   "cell_type": "code",
   "execution_count": 28,
   "metadata": {},
   "outputs": [],
   "source": [
    "# Two pointers \n",
    "def reverseList(self, head):\n",
    "    cur = head \n",
    "    pre = None\n",
    "\n",
    "    while cur:\n",
    "        temp = cur.next #存储后一个点\n",
    "        cur.next = pre #指向前一个点\n",
    "        # update pointer \n",
    "        pre = cur #更显现在的点为pre\n",
    "        cur = temp #更新后一个点为cur\n",
    "    return pre "
   ]
  },
  {
   "cell_type": "code",
   "execution_count": 29,
   "metadata": {},
   "outputs": [],
   "source": [
    "# Recursion \n",
    "#时间复杂度: O(n)\n",
    "#空间复杂度: O(n)\n",
    "def reverseList(self, head: ListNode) -> ListNode:\n",
    "    return self.reverse(head, None)\n",
    "\n",
    "def reverse(self, cur: ListNode, pre: ListNode) -> ListNode:\n",
    "    if cur == None:\n",
    "        return pre \n",
    "    temp = cur.next\n",
    "    cur.next = pre\n",
    "    return self.reverse(temp, cur)"
   ]
  }
 ],
 "metadata": {
  "kernelspec": {
   "display_name": "base",
   "language": "python",
   "name": "python3"
  },
  "language_info": {
   "codemirror_mode": {
    "name": "ipython",
    "version": 3
   },
   "file_extension": ".py",
   "mimetype": "text/x-python",
   "name": "python",
   "nbconvert_exporter": "python",
   "pygments_lexer": "ipython3",
   "version": "3.10.12"
  }
 },
 "nbformat": 4,
 "nbformat_minor": 2
}
